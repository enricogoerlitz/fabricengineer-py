{
 "cells": [
  {
   "cell_type": "markdown",
   "id": "a81b363a",
   "metadata": {},
   "source": [
    "# Playground"
   ]
  },
  {
   "cell_type": "markdown",
   "id": "648232ba",
   "metadata": {},
   "source": [
    "## Initialize globals"
   ]
  },
  {
   "cell_type": "code",
   "execution_count": 2,
   "id": "fa0c3a44",
   "metadata": {},
   "outputs": [],
   "source": [
    "import sys\n",
    "import os\n",
    "import io\n",
    "import shutil\n",
    "import time\n",
    "\n",
    "from uuid import uuid4\n",
    "from typing import Any\n",
    "from contextlib import redirect_stdout\n",
    "from pyspark.sql import SparkSession\n",
    "\n",
    "sys.path.append(\"../src\")\n",
    "\n",
    "from fabricengineer.transform.mlv.mlv import MaterializedLakeView\n",
    "from fabricengineer.transform.silver.insertonly import SilverIngestionInsertOnlyService, ConstantColumn, LakehouseTable as LakehouseTableIO, get_mock_save_path\n",
    "from fabricengineer.logging import TimeLogger\n",
    "\n",
    "mlv: MaterializedLakeView\n",
    "timer: TimeLogger"
   ]
  },
  {
   "cell_type": "code",
   "execution_count": 3,
   "id": "965e651f",
   "metadata": {},
   "outputs": [
    {
     "name": "stderr",
     "output_type": "stream",
     "text": [
      "25/08/01 12:47:23 WARN Utils: Your hostname, MacBook-Air-von-Enrico.local resolves to a loopback address: 127.0.0.1; using 192.168.0.7 instead (on interface en0)\n",
      "25/08/01 12:47:23 WARN Utils: Set SPARK_LOCAL_IP if you need to bind to another address\n",
      "Setting default log level to \"WARN\".\n",
      "To adjust logging level use sc.setLogLevel(newLevel). For SparkR, use setLogLevel(newLevel).\n",
      "25/08/01 12:47:23 WARN NativeCodeLoader: Unable to load native-hadoop library for your platform... using builtin-java classes where applicable\n"
     ]
    }
   ],
   "source": [
    "class NotebookUtilsFSMock:\n",
    "    def _get_path(self, file: str) -> str:\n",
    "        return os.path.join(os.getcwd(), file)\n",
    "\n",
    "    def exists(self, path: str) -> bool:\n",
    "        return os.path.exists(self._get_path(path))\n",
    "\n",
    "    def put(\n",
    "        self,\n",
    "        file: str,\n",
    "        content: str,\n",
    "        overwrite: bool = False\n",
    "    ) -> None:\n",
    "        path = self._get_path(file)\n",
    "        os.makedirs(os.path.dirname(path), exist_ok=True)\n",
    "\n",
    "        if os.path.exists(path) and not overwrite:\n",
    "            raise FileExistsError(f\"File {path} already exists and overwrite is set to False.\")\n",
    "        with open(path, 'w') as f:\n",
    "            f.write(content)\n",
    "\n",
    "\n",
    "class NotebookUtilsMock:\n",
    "    def __init__(self):\n",
    "        self.fs = NotebookUtilsFSMock()\n",
    "\n",
    "global spark\n",
    "spark: SparkSession = SparkSession.builder.appName(\"PlaygroundSparkSession\").getOrCreate()\n",
    "\n",
    "global notebookutils\n",
    "notebookutils = NotebookUtilsMock()"
   ]
  },
  {
   "cell_type": "code",
   "execution_count": 4,
   "id": "5c6173fb",
   "metadata": {},
   "outputs": [],
   "source": [
    "def sniff_logs(fn: callable) -> tuple[Any, list[str]]:\n",
    "    log_stream = io.StringIO()\n",
    "    with redirect_stdout(log_stream):\n",
    "        result = fn()\n",
    "    logs = log_stream.getvalue().splitlines()\n",
    "    return result, logs"
   ]
  },
  {
   "cell_type": "code",
   "execution_count": 5,
   "id": "cb8d5599",
   "metadata": {},
   "outputs": [],
   "source": [
    "def cleanup_fs():\n",
    "    path_Files = notebookutils.fs._get_path(\"Files\")\n",
    "    path_tmp = notebookutils.fs._get_path(\"tmp\")\n",
    "    path_tmp_2 = \"../tmp\"\n",
    "\n",
    "    rm_paths = [path_Files, path_tmp, path_tmp_2]\n",
    "    for path in rm_paths:\n",
    "        if os.path.exists(path):\n",
    "            shutil.rmtree(path)\n",
    "\n",
    "cleanup_fs()"
   ]
  },
  {
   "cell_type": "markdown",
   "id": "bc9d2e7c",
   "metadata": {},
   "source": [
    "## TimeLogger"
   ]
  },
  {
   "cell_type": "code",
   "execution_count": 6,
   "id": "a8c8a6d5",
   "metadata": {},
   "outputs": [
    {
     "data": {
      "text/plain": [
       "TimeLogger(start_time=None, end_time=None, elapsed_time=None)"
      ]
     },
     "execution_count": 6,
     "metadata": {},
     "output_type": "execute_result"
    }
   ],
   "source": [
    "with open(\"../src/fabricengineer/logging/timer.py\") as f:\n",
    "    code = f.read()\n",
    "exec(code, globals())\n",
    "\n",
    "timer"
   ]
  },
  {
   "cell_type": "code",
   "execution_count": 7,
   "id": "30d295e0",
   "metadata": {},
   "outputs": [
    {
     "name": "stdout",
     "output_type": "stream",
     "text": [
      "TIMER-START:\t2025-08-01 12:47:24\n",
      "TIMER-END:\t2025-08-01 12:47:25, ELAPSED: 1.0031s\n"
     ]
    }
   ],
   "source": [
    "timer.start().log()\n",
    "time.sleep(1)\n",
    "timer.stop().log()"
   ]
  },
  {
   "cell_type": "markdown",
   "id": "0076f2b1",
   "metadata": {},
   "source": [
    "## MaterializedLakeView"
   ]
  },
  {
   "cell_type": "code",
   "execution_count": 8,
   "id": "2ba1bbfa",
   "metadata": {},
   "outputs": [
    {
     "data": {
      "text/plain": [
       "{'lakehouse': 'Lakehouse',\n",
       " 'schema': 'schema',\n",
       " 'table': 'table',\n",
       " 'table_path': 'Lakehouse.schema.table'}"
      ]
     },
     "execution_count": 8,
     "metadata": {},
     "output_type": "execute_result"
    }
   ],
   "source": [
    "with open(\"../src/fabricengineer/transform/mlv/mlv.py\") as f:\n",
    "    code = f.read()\n",
    "exec(code, globals())\n",
    "\n",
    "\n",
    "mlv.init(\n",
    "    lakehouse=\"Lakehouse\",\n",
    "    schema=\"schema\",\n",
    "    table=\"table\",\n",
    "    table_suffix=None,\n",
    "    is_testing_mock=True\n",
    ")\n",
    "\n",
    "mlv.to_dict()"
   ]
  },
  {
   "cell_type": "code",
   "execution_count": 9,
   "id": "85d270d3",
   "metadata": {},
   "outputs": [
    {
     "name": "stdout",
     "output_type": "stream",
     "text": [
      "Logs-1\n"
     ]
    },
    {
     "data": {
      "text/plain": [
       "['CREATE SCHEMA IF NOT EXISTS ea286a6c-1b39-42d9-bd6b-68be3737e9df.schema',\n",
       " 'CREATE MLV: ea286a6c-1b39-42d9-bd6b-68be3737e9df.schema.table']"
      ]
     },
     "metadata": {},
     "output_type": "display_data"
    },
    {
     "name": "stdout",
     "output_type": "stream",
     "text": [
      "Logs-2\n"
     ]
    },
    {
     "data": {
      "text/plain": [
       "['Nothing has changed.']"
      ]
     },
     "metadata": {},
     "output_type": "display_data"
    },
    {
     "name": "stdout",
     "output_type": "stream",
     "text": [
      "Logs-3\n"
     ]
    },
    {
     "data": {
      "text/plain": [
       "['REPLACE MLV: ea286a6c-1b39-42d9-bd6b-68be3737e9df.schema.table',\n",
       " 'DROP MATERIALIZED LAKE VIEW ea286a6c-1b39-42d9-bd6b-68be3737e9df.schema.table',\n",
       " 'CREATE SCHEMA IF NOT EXISTS ea286a6c-1b39-42d9-bd6b-68be3737e9df.schema',\n",
       " 'CREATE MLV: ea286a6c-1b39-42d9-bd6b-68be3737e9df.schema.table']"
      ]
     },
     "metadata": {},
     "output_type": "display_data"
    },
    {
     "name": "stdout",
     "output_type": "stream",
     "text": [
      "Logs-4\n"
     ]
    },
    {
     "data": {
      "text/plain": [
       "['Nothing has changed.']"
      ]
     },
     "metadata": {},
     "output_type": "display_data"
    }
   ],
   "source": [
    "mlv.init(\n",
    "    lakehouse=str(uuid4()),\n",
    "    schema=\"schema\",\n",
    "    table=\"table\",\n",
    "    table_suffix=None,\n",
    "    is_testing_mock=True\n",
    ")\n",
    "\n",
    "sql = \"\"\"\n",
    "SELECT * FROM Lakehouse.schema.table\n",
    "\"\"\"\n",
    "is_existing = False\n",
    "for i in range(0, 4):\n",
    "    if i > 0:\n",
    "        is_existing = True\n",
    "    if i == 2:\n",
    "        sql = \"\"\"\n",
    "        SELECT * FROM Lakehouse.schema.table WHERE 1=0\n",
    "        \"\"\"\n",
    "    result, logs = sniff_logs(\n",
    "        lambda: mlv.create_or_replace(sql, mock_is_existing=is_existing)\n",
    "    )\n",
    "    print(f\"Logs-{i+1}\")\n",
    "    display(logs)"
   ]
  },
  {
   "cell_type": "code",
   "execution_count": 10,
   "id": "eb398d11",
   "metadata": {},
   "outputs": [],
   "source": [
    "mlv.file_path\n",
    "os.remove(mlv.file_path)"
   ]
  },
  {
   "cell_type": "code",
   "execution_count": 11,
   "id": "922dca13",
   "metadata": {},
   "outputs": [
    {
     "data": {
      "text/plain": [
       "['WARN: file=None, is_existing=True. RECREATE.',\n",
       " 'DROP MATERIALIZED LAKE VIEW ea286a6c-1b39-42d9-bd6b-68be3737e9df.schema.table',\n",
       " 'CREATE SCHEMA IF NOT EXISTS ea286a6c-1b39-42d9-bd6b-68be3737e9df.schema',\n",
       " 'CREATE MLV: ea286a6c-1b39-42d9-bd6b-68be3737e9df.schema.table']"
      ]
     },
     "execution_count": 11,
     "metadata": {},
     "output_type": "execute_result"
    }
   ],
   "source": [
    "result, logs = sniff_logs(\n",
    "    lambda: mlv.create_or_replace(sql, mock_is_existing=True)\n",
    ")\n",
    "\n",
    "logs"
   ]
  },
  {
   "cell_type": "code",
   "execution_count": 12,
   "id": "5235b494",
   "metadata": {},
   "outputs": [
    {
     "data": {
      "text/plain": [
       "['REFRESH MATERIALIZED LAKE VIEW ea286a6c-1b39-42d9-bd6b-68be3737e9df.schema.table FULL']"
      ]
     },
     "execution_count": 12,
     "metadata": {},
     "output_type": "execute_result"
    }
   ],
   "source": [
    "result, logs = sniff_logs(\n",
    "    lambda: mlv.refresh(full_refresh=True)\n",
    ")\n",
    "\n",
    "logs"
   ]
  },
  {
   "cell_type": "code",
   "execution_count": 13,
   "id": "110dd14e",
   "metadata": {},
   "outputs": [
    {
     "data": {
      "text/plain": [
       "['REFRESH MATERIALIZED LAKE VIEW ea286a6c-1b39-42d9-bd6b-68be3737e9df.schema.table ']"
      ]
     },
     "execution_count": 13,
     "metadata": {},
     "output_type": "execute_result"
    }
   ],
   "source": [
    "result, logs = sniff_logs(\n",
    "    lambda: mlv.refresh(full_refresh=False)\n",
    ")\n",
    "\n",
    "logs"
   ]
  },
  {
   "cell_type": "markdown",
   "id": "19a6be1e",
   "metadata": {},
   "source": [
    "## Clean up the file system"
   ]
  },
  {
   "cell_type": "code",
   "execution_count": 14,
   "id": "4c8f3764",
   "metadata": {},
   "outputs": [],
   "source": [
    "cleanup_fs()"
   ]
  },
  {
   "cell_type": "markdown",
   "id": "2578946d",
   "metadata": {},
   "source": [
    "## SilverIngestionInsertOnlyService"
   ]
  },
  {
   "cell_type": "code",
   "execution_count": 15,
   "id": "170d66a4",
   "metadata": {},
   "outputs": [
    {
     "name": "stderr",
     "output_type": "stream",
     "text": [
      "25/08/01 12:47:25 WARN SQLConf: The SQL config 'spark.sql.legacy.parquet.int96RebaseModeInRead' has been deprecated in Spark v3.2 and may be removed in the future. Use 'spark.sql.parquet.int96RebaseModeInRead' instead.\n",
      "25/08/01 12:47:25 WARN SQLConf: The SQL config 'spark.sql.legacy.parquet.int96RebaseModeInWrite' has been deprecated in Spark v3.2 and may be removed in the future. Use 'spark.sql.parquet.int96RebaseModeInWrite' instead.\n",
      "25/08/01 12:47:25 WARN SQLConf: The SQL config 'spark.sql.legacy.parquet.datetimeRebaseModeInRead' has been deprecated in Spark v3.2 and may be removed in the future. Use 'spark.sql.parquet.datetimeRebaseModeInRead' instead.\n",
      "25/08/01 12:47:25 WARN SQLConf: The SQL config 'spark.sql.legacy.parquet.datetimeRebaseModeInWrite' has been deprecated in Spark v3.2 and may be removed in the future. Use 'spark.sql.parquet.datetimeRebaseModeInWrite' instead.\n"
     ]
    }
   ],
   "source": [
    "src_table = LakehouseTableIO(\n",
    "    lakehouse=\"BronzeLakehouse\",\n",
    "    schema=\"schema\",\n",
    "    table=\"table1\"\n",
    ")\n",
    "dest_table = LakehouseTableIO(\n",
    "    lakehouse=\"SilverLakehouse\",\n",
    "    schema=src_table.schema,\n",
    "    table=src_table.table\n",
    ")\n",
    "\n",
    "etl = SilverIngestionInsertOnlyService()\n",
    "etl.init(\n",
    "    spark=spark,\n",
    "    source_table=src_table,\n",
    "    destination_table=dest_table,\n",
    "    nk_columns=[\"id\"],\n",
    "    constant_columns=[],\n",
    "    is_delta_load=False,\n",
    "    delta_load_use_broadcast=True,\n",
    "    transformations={},\n",
    "    exclude_comparing_columns=None,\n",
    "    include_comparing_columns=None,\n",
    "    historize=True,\n",
    "    partition_by_columns=None,\n",
    "    is_testing_mock=True\n",
    ")"
   ]
  },
  {
   "cell_type": "code",
   "execution_count": 20,
   "id": "1f6ae959",
   "metadata": {},
   "outputs": [
    {
     "name": "stdout",
     "output_type": "stream",
     "text": [
      "+---+---------+-------------+-------------------+-------------------+\n",
      "|id |name     |department_id|created_at         |updated_at         |\n",
      "+---+---------+-------------+-------------------+-------------------+\n",
      "|1  |Alice    |1            |2023-01-01 00:00:00|2023-01-01 00:00:00|\n",
      "|2  |u-Bob    |2            |2023-01-01 00:00:00|2023-01-01 00:00:00|\n",
      "|3  |u-Charlie|3            |2023-01-01 00:00:00|2023-01-01 00:00:00|\n",
      "|4  |David    |1            |2023-01-01 00:00:00|2023-01-01 00:00:00|\n",
      "|5  |Eve      |2            |2023-01-01 00:00:00|2023-01-01 00:00:00|\n",
      "|6  |Frank    |3            |2023-01-01 00:00:00|2023-01-01 00:00:00|\n",
      "|8  |Heidi    |2            |2023-01-01 00:00:00|2023-01-01 00:00:00|\n",
      "|9  |Ivan     |3            |2023-01-01 00:00:00|2023-01-01 00:00:00|\n",
      "|10 |Judy     |1            |2023-01-01 00:00:00|2023-01-01 00:00:00|\n",
      "|11 |Judy-2   |1            |2023-01-01 00:00:00|2023-01-01 00:00:00|\n",
      "|12 |Judy-3   |1            |2023-01-01 00:00:00|2023-01-01 00:00:00|\n",
      "|13 |Judy-4   |1            |2023-01-01 00:00:00|2023-01-01 00:00:00|\n",
      "+---+---------+-------------+-------------------+-------------------+\n",
      "\n"
     ]
    }
   ],
   "source": [
    "from pyspark.sql import functions as F, types as T\n",
    "\n",
    "schema = T.StructType([\n",
    "    T.StructField(\"id\", T.IntegerType(), False),\n",
    "    T.StructField(\"name\", T.StringType(), False),\n",
    "    T.StructField(\"department_id\", T.IntegerType(), False),\n",
    "    T.StructField(\"created_at\", T.StringType(), False),\n",
    "    T.StructField(\"updated_at\", T.StringType(), False),\n",
    "])\n",
    "\n",
    "data = [\n",
    "    (1, \"Alice\", 1, \"2023-01-01\", \"2023-01-01\"),\n",
    "    (2, \"u-Bob\", 2, \"2023-01-01\", \"2023-01-01\"),\n",
    "    (3, \"u-Charlie\", 3, \"2023-01-01\", \"2023-01-01\"),\n",
    "    (4, \"David\", 1, \"2023-01-01\", \"2023-01-01\"),\n",
    "    (5, \"Eve\", 2, \"2023-01-01\", \"2023-01-01\"),\n",
    "    (6, \"Frank\", 3, \"2023-01-01\", \"2023-01-01\"),\n",
    "    # (7, \"Grace\", 1, \"2023-01-01\", \"2023-01-01\"),\n",
    "    (8, \"Heidi\", 2, \"2023-01-01\", \"2023-01-01\"),\n",
    "    (9, \"Ivan\", 3, \"2023-01-01\", \"2023-01-01\"),\n",
    "    (10, \"Judy\", 1, \"2023-01-01\", \"2023-01-01\")\n",
    "    ,(11, \"Judy-2\", 1, \"2023-01-01\", \"2023-01-01\")\n",
    "    ,(12, \"Judy-3\", 1, \"2023-01-01\", \"2023-01-01\")\n",
    "    ,(13, \"Judy-4\", 1, \"2023-01-01\", \"2023-01-01\")\n",
    "]\n",
    "\n",
    "df_bronze = spark.createDataFrame(data, schema)\n",
    "df_bronze = df_bronze \\\n",
    "    .withColumn(\"created_at\", F.to_timestamp(\"created_at\")) \\\n",
    "    .withColumn(\"updated_at\",F.to_timestamp(\"updated_at\"))\n",
    "\n",
    "df_bronze.show(truncate=False)\n",
    "bronze_path = get_mock_save_path(etl._src_table)\n",
    "df_bronze.write \\\n",
    "    .format(\"parquet\") \\\n",
    "    .mode(\"overwrite\") \\\n",
    "    .save(bronze_path)"
   ]
  },
  {
   "cell_type": "code",
   "execution_count": 23,
   "id": "fd2c6083",
   "metadata": {},
   "outputs": [
    {
     "name": "stdout",
     "output_type": "stream",
     "text": [
      "+---+---+---+----+-------------+----------+----------+------------+--------------+\n",
      "|PK |NK |id |name|department_id|created_at|updated_at|ROW_LOAD_DTS|ROW_DELETE_DTS|\n",
      "+---+---+---+----+-------------+----------+----------+------------+--------------+\n",
      "+---+---+---+----+-------------+----------+----------+------------+--------------+\n",
      "\n"
     ]
    }
   ],
   "source": [
    "new_data = etl.ingest()\n",
    "new_data.orderBy(\"id\").show(truncate=False)"
   ]
  },
  {
   "cell_type": "code",
   "execution_count": 24,
   "id": "b6ba540c",
   "metadata": {},
   "outputs": [
    {
     "name": "stdout",
     "output_type": "stream",
     "text": [
      "+------------------------------------+---+---+---------+-------------+-------------------+-------------------+--------------------------+--------------------------+\n",
      "|PK                                  |NK |id |name     |department_id|created_at         |updated_at         |ROW_LOAD_DTS              |ROW_DELETE_DTS            |\n",
      "+------------------------------------+---+---+---------+-------------+-------------------+-------------------+--------------------------+--------------------------+\n",
      "|d37d08fa-8b08-4d1b-b3ef-1f3bf8eb3815|1  |1  |Alice    |1            |2023-01-01 00:00:00|2023-01-01 00:00:00|2025-08-01 12:47:33.309359|NULL                      |\n",
      "|36b95c1c-0654-45b2-b13b-a7d8078385a1|2  |2  |Bob      |2            |2023-01-01 00:00:00|2023-01-01 00:00:00|2025-08-01 12:47:33.309359|NULL                      |\n",
      "|b496ab4c-66f1-41a4-9624-fc7ac7e1ef06|2  |2  |u-Bob    |2            |2023-01-01 00:00:00|2023-01-01 00:00:00|2025-08-01 12:49:06.642621|NULL                      |\n",
      "|7c570f19-fbbe-4884-ac1c-55a41fd0acdd|3  |3  |Charlie  |3            |2023-01-01 00:00:00|2023-01-01 00:00:00|2025-08-01 12:47:33.309359|NULL                      |\n",
      "|291deb24-ae4e-4e3f-848d-734cb71b7afd|3  |3  |u-Charlie|3            |2023-01-01 00:00:00|2023-01-01 00:00:00|2025-08-01 12:49:06.642621|NULL                      |\n",
      "|0e280fd8-12db-4368-8880-3ac2157c798f|4  |4  |David    |1            |2023-01-01 00:00:00|2023-01-01 00:00:00|2025-08-01 12:47:33.309359|NULL                      |\n",
      "|4cc414a9-1f81-4c3b-8892-dad51f85ee82|5  |5  |Eve      |2            |2023-01-01 00:00:00|2023-01-01 00:00:00|2025-08-01 12:47:33.309359|NULL                      |\n",
      "|1297f389-0254-4ea7-8c4e-64235914091c|6  |6  |Frank    |3            |2023-01-01 00:00:00|2023-01-01 00:00:00|2025-08-01 12:47:33.309359|NULL                      |\n",
      "|4289aab2-b283-4f0b-b350-b6b5467e5af4|7  |7  |Grace    |1            |2023-01-01 00:00:00|2023-01-01 00:00:00|2025-08-01 12:47:33.309359|NULL                      |\n",
      "|4e62356c-bf53-43b9-91d7-f921a4fd1d3d|7  |7  |Grace    |1            |2023-01-01 00:00:00|2023-01-01 00:00:00|2025-08-01 12:49:06.642621|2025-08-01 12:49:06.642621|\n",
      "|64ec2e1a-cb1f-480f-8661-4f1950792346|8  |8  |Heidi    |2            |2023-01-01 00:00:00|2023-01-01 00:00:00|2025-08-01 12:47:33.309359|NULL                      |\n",
      "|8a7d9017-f930-46e6-8bee-3bb41f6bd75d|9  |9  |Ivan     |3            |2023-01-01 00:00:00|2023-01-01 00:00:00|2025-08-01 12:47:33.309359|NULL                      |\n",
      "|22dd4512-f8c1-4bf4-923c-23398f66c05c|10 |10 |Judy     |1            |2023-01-01 00:00:00|2023-01-01 00:00:00|2025-08-01 12:47:33.309359|NULL                      |\n",
      "|405abcfb-f5c2-4514-88bc-f160f83003e9|11 |11 |Judy-2   |1            |2023-01-01 00:00:00|2023-01-01 00:00:00|2025-08-01 12:49:06.642621|NULL                      |\n",
      "|aede73fb-55f0-4552-b342-36352da6cde6|12 |12 |Judy-3   |1            |2023-01-01 00:00:00|2023-01-01 00:00:00|2025-08-01 12:49:06.642621|NULL                      |\n",
      "|10fc2f5d-0c9b-4d42-891f-d84902d785cd|13 |13 |Judy-4   |1            |2023-01-01 00:00:00|2023-01-01 00:00:00|2025-08-01 12:49:06.642621|NULL                      |\n",
      "+------------------------------------+---+---+---------+-------------+-------------------+-------------------+--------------------------+--------------------------+\n",
      "\n"
     ]
    }
   ],
   "source": [
    "silver_path = get_mock_save_path(etl._dest_table)\n",
    "df = spark.read.format(\"parquet\").load(silver_path).orderBy(F.col(\"id\").asc(), F.col(\"ROW_LOAD_DTS\").asc())\n",
    "\n",
    "df.show(truncate=False)"
   ]
  }
 ],
 "metadata": {
  "kernelspec": {
   "display_name": "py312",
   "language": "python",
   "name": "python3"
  },
  "language_info": {
   "codemirror_mode": {
    "name": "ipython",
    "version": 3
   },
   "file_extension": ".py",
   "mimetype": "text/x-python",
   "name": "python",
   "nbconvert_exporter": "python",
   "pygments_lexer": "ipython3",
   "version": "3.12.9"
  }
 },
 "nbformat": 4,
 "nbformat_minor": 5
}
