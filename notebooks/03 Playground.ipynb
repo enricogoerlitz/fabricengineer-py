{
 "cells": [
  {
   "cell_type": "markdown",
   "id": "a81b363a",
   "metadata": {},
   "source": [
    "# Playground"
   ]
  },
  {
   "cell_type": "markdown",
   "id": "648232ba",
   "metadata": {},
   "source": [
    "## Initialize globals"
   ]
  },
  {
   "cell_type": "code",
   "execution_count": 1,
   "id": "fa0c3a44",
   "metadata": {},
   "outputs": [],
   "source": [
    "import sys\n",
    "import os\n",
    "import io\n",
    "import shutil\n",
    "import time\n",
    "\n",
    "from uuid import uuid4\n",
    "from pyspark.sql import SparkSession\n",
    "from delta import configure_spark_with_delta_pip\n",
    "\n",
    "sys.path.append(\"../src\")\n",
    "\n",
    "from fabricengineer.transform.mlv.mlv import MaterializedLakeView\n",
    "from fabricengineer.transform.silver import (\n",
    "    SilverIngestionInsertOnlyService,\n",
    "    SilverIngestionSCD2Service\n",
    ")\n",
    "from fabricengineer.transform.silver.utils import (\n",
    "    LakehouseTable,\n",
    "    get_mock_table_path\n",
    ")\n",
    "from fabricengineer.logging import TimeLogger, logger\n",
    "\n",
    "mlv: MaterializedLakeView\n",
    "timer: TimeLogger"
   ]
  },
  {
   "cell_type": "code",
   "execution_count": 2,
   "id": "965e651f",
   "metadata": {},
   "outputs": [
    {
     "name": "stderr",
     "output_type": "stream",
     "text": [
      "25/08/06 15:03:49 WARN Utils: Your hostname, MacBook-Air-von-Enrico.local resolves to a loopback address: 127.0.0.1; using 192.168.0.7 instead (on interface en0)\n",
      "25/08/06 15:03:49 WARN Utils: Set SPARK_LOCAL_IP if you need to bind to another address\n",
      "Ivy Default Cache set to: /Users/enricogoerlitz/.ivy2/cache\n",
      "The jars for the packages stored in: /Users/enricogoerlitz/.ivy2/jars\n",
      "io.delta#delta-spark_2.12 added as a dependency\n",
      ":: resolving dependencies :: org.apache.spark#spark-submit-parent-d69c5fa3-0453-4b49-a4c6-aacb9488dcf3;1.0\n",
      "\tconfs: [default]\n",
      "\tfound io.delta#delta-spark_2.12;3.2.0 in central\n",
      "\tfound io.delta#delta-storage;3.2.0 in central\n",
      "\tfound org.antlr#antlr4-runtime;4.9.3 in central\n",
      ":: resolution report :: resolve 80ms :: artifacts dl 2ms\n",
      "\t:: modules in use:\n",
      "\tio.delta#delta-spark_2.12;3.2.0 from central in [default]\n",
      "\tio.delta#delta-storage;3.2.0 from central in [default]\n",
      "\torg.antlr#antlr4-runtime;4.9.3 from central in [default]\n",
      "\t---------------------------------------------------------------------\n",
      "\t|                  |            modules            ||   artifacts   |\n",
      "\t|       conf       | number| search|dwnlded|evicted|| number|dwnlded|\n",
      "\t---------------------------------------------------------------------\n",
      "\t|      default     |   3   |   0   |   0   |   0   ||   3   |   0   |\n",
      "\t---------------------------------------------------------------------\n",
      ":: retrieving :: org.apache.spark#spark-submit-parent-d69c5fa3-0453-4b49-a4c6-aacb9488dcf3\n",
      "\tconfs: [default]\n",
      "\t0 artifacts copied, 3 already retrieved (0kB/3ms)\n"
     ]
    },
    {
     "name": "stdout",
     "output_type": "stream",
     "text": [
      ":: loading settings :: url = jar:file:/Users/enricogoerlitz/opt/miniconda3/envs/py312/lib/python3.12/site-packages/pyspark/jars/ivy-2.5.1.jar!/org/apache/ivy/core/settings/ivysettings.xml\n"
     ]
    },
    {
     "name": "stderr",
     "output_type": "stream",
     "text": [
      "25/08/06 15:03:50 WARN NativeCodeLoader: Unable to load native-hadoop library for your platform... using builtin-java classes where applicable\n",
      "Setting default log level to \"WARN\".\n",
      "To adjust logging level use sc.setLogLevel(newLevel). For SparkR, use setLogLevel(newLevel).\n",
      "25/08/06 15:03:50 WARN Utils: Service 'SparkUI' could not bind on port 4040. Attempting port 4041.\n"
     ]
    }
   ],
   "source": [
    "class NotebookUtilsFSMock:\n",
    "    def _get_path(self, file: str) -> str:\n",
    "        return os.path.join(os.getcwd(), file)\n",
    "\n",
    "    def exists(self, path: str) -> bool:\n",
    "        return os.path.exists(self._get_path(path))\n",
    "\n",
    "    def put(\n",
    "        self,\n",
    "        file: str,\n",
    "        content: str,\n",
    "        overwrite: bool = False\n",
    "    ) -> None:\n",
    "        path = self._get_path(file)\n",
    "        os.makedirs(os.path.dirname(path), exist_ok=True)\n",
    "\n",
    "        if os.path.exists(path) and not overwrite:\n",
    "            raise FileExistsError(f\"File {path} already exists and overwrite is set to False.\")\n",
    "        with open(path, 'w') as f:\n",
    "            f.write(content)\n",
    "\n",
    "\n",
    "class NotebookUtilsMock:\n",
    "    def __init__(self):\n",
    "        self.fs = NotebookUtilsFSMock()\n",
    "\n",
    "builder = SparkSession.builder \\\n",
    "    .appName(\"TestSession\") \\\n",
    "    .master(\"local[*]\") \\\n",
    "    .config(\"spark.sql.extensions\", \"io.delta.sql.DeltaSparkSessionExtension\") \\\n",
    "    .config(\"spark.sql.catalog.spark_catalog\", \"org.apache.spark.sql.delta.catalog.DeltaCatalog\")\n",
    "\n",
    "global spark\n",
    "spark: SparkSession = configure_spark_with_delta_pip(builder).getOrCreate()\n",
    "\n",
    "global notebookutils\n",
    "notebookutils = NotebookUtilsMock()"
   ]
  },
  {
   "cell_type": "code",
   "execution_count": 3,
   "id": "5c6173fb",
   "metadata": {},
   "outputs": [],
   "source": [
    "import io\n",
    "import logging\n",
    "from typing import Any, Callable\n",
    "from contextlib import contextmanager\n",
    "\n",
    "@contextmanager\n",
    "def capture_logs(logger: logging.Logger):\n",
    "    log_stream = io.StringIO()\n",
    "    handler = logging.StreamHandler(log_stream)\n",
    "    handler.setLevel(logging.DEBUG)  # Fang alles ab\n",
    "    formatter = logging.Formatter(\"[%(asctime)s] [%(levelname)s] %(filename)s %(message)s\", \"%d.%m.%Y %H:%M:%S,%f\")\n",
    "    handler.setFormatter(formatter)\n",
    "\n",
    "    logger.addHandler(handler)\n",
    "    try:\n",
    "        yield log_stream\n",
    "    finally:\n",
    "        logger.removeHandler(handler)\n",
    "\n",
    "def sniff_logs(logger: logging.Logger, fn: Callable[[], Any]) -> tuple[Any, list[str]]:\n",
    "    with capture_logs(logger) as log_stream:\n",
    "        result = fn()\n",
    "    logs = log_stream.getvalue().splitlines()\n",
    "    return result, logs\n"
   ]
  },
  {
   "cell_type": "code",
   "execution_count": 4,
   "id": "cb8d5599",
   "metadata": {},
   "outputs": [],
   "source": [
    "import os\n",
    "import shutil\n",
    "\n",
    "\n",
    "def cleanup_fs():\n",
    "    path_Files = notebookutils.fs._get_path(\"Files\")\n",
    "    path_tmp = notebookutils.fs._get_path(\"tmp\")\n",
    "    path_tmp_2 = \"../tmp\"\n",
    "    path_tmp_3 = \"../Files\"\n",
    "\n",
    "    rm_paths = [path_Files, path_tmp, path_tmp_2, path_tmp_3]\n",
    "    for path in rm_paths:\n",
    "        if os.path.exists(path):\n",
    "            shutil.rmtree(path)\n",
    "\n",
    "cleanup_fs()"
   ]
  },
  {
   "cell_type": "markdown",
   "id": "2858c34c",
   "metadata": {},
   "source": [
    "## SilverIngestionSCD2Service"
   ]
  },
  {
   "cell_type": "code",
   "execution_count": 5,
   "id": "5074ca64",
   "metadata": {},
   "outputs": [
    {
     "data": {
      "text/plain": [
       "\"{'historize': True, 'is_delta_load': False, 'delta_load_use_broadcast': True, 'src_table_path': 'BronzeLakehouse.schema.tablescd2', 'dist_table_path': 'SilverLakehouse.schema.tablescd2', 'nk_columns': ['id'], 'include_comparing_columns': [], 'exclude_comparing_columns': {'ROW_UPDATE_DTS', 'ROW_IS_CURRENT', 'PK', 'ROW_LOAD_DTS', 'NK', 'id', 'ROW_DELETE_DTS'}, 'transformations': {}, 'constant_columns': [], 'partition_by': [], 'pk_column': 'PK', 'nk_column': 'NK', 'nk_column_concate_str': '_', 'row_load_dts_column': 'ROW_LOAD_DTS', 'row_update_dts_column': 'ROW_UPDATE_DTS', 'row_delete_dts_column': 'ROW_DELETE_DTS', 'dw_columns': ['PK', 'NK', 'ROW_IS_CURRENT', 'ROW_UPDATE_DTS', 'ROW_DELETE_DTS', 'ROW_LOAD_DTS']}\""
      ]
     },
     "execution_count": 5,
     "metadata": {},
     "output_type": "execute_result"
    }
   ],
   "source": [
    "src_table = LakehouseTable(\n",
    "    lakehouse=\"BronzeLakehouse\",\n",
    "    schema=\"schema\",\n",
    "    table=\"tablescd2\"\n",
    ")\n",
    "dest_table = LakehouseTable(\n",
    "    lakehouse=\"SilverLakehouse\",\n",
    "    schema=src_table.schema,\n",
    "    table=src_table.table\n",
    ")\n",
    "\n",
    "etl = SilverIngestionSCD2Service()\n",
    "etl.init(\n",
    "    spark_=spark,\n",
    "    source_table=src_table,\n",
    "    destination_table=dest_table,\n",
    "    nk_columns=[\"id\"],\n",
    "    constant_columns=[],\n",
    "    is_delta_load=False,\n",
    "    delta_load_use_broadcast=True,\n",
    "    transformations={},\n",
    "    exclude_comparing_columns=None,\n",
    "    include_comparing_columns=None,\n",
    "    historize=True,\n",
    "    partition_by_columns=None,\n",
    "    is_testing_mock=True\n",
    ")\n",
    "\n",
    "str(etl)"
   ]
  },
  {
   "cell_type": "code",
   "execution_count": 26,
   "id": "d8a77588",
   "metadata": {},
   "outputs": [
    {
     "name": "stdout",
     "output_type": "stream",
     "text": [
      "+---+-------+-------------+-------------------+-------------------+\n",
      "|id |name   |department_id|created_at         |updated_at         |\n",
      "+---+-------+-------------+-------------------+-------------------+\n",
      "|1  |Alice  |1            |2023-01-01 00:00:00|2023-01-01 00:00:00|\n",
      "|2  |n-Bob  |2            |2023-01-01 00:00:00|2023-01-01 00:00:00|\n",
      "|3  |Charlie|3            |2023-01-01 00:00:00|2023-01-01 00:00:00|\n",
      "|4  |David  |1            |2023-01-01 00:00:00|2023-01-01 00:00:00|\n",
      "|5  |u-Eve  |2            |2023-01-01 00:00:00|2023-01-01 00:00:00|\n",
      "|6  |Frank  |3            |2023-01-01 00:00:00|2023-01-01 00:00:00|\n",
      "|7  |Grace  |1            |2023-01-01 00:00:00|2023-01-01 00:00:00|\n",
      "|8  |Heidi  |2            |2023-01-01 00:00:00|2023-01-01 00:00:00|\n",
      "|9  |Ivan   |3            |2023-01-01 00:00:00|2023-01-01 00:00:00|\n",
      "|10 |Judy   |1            |2023-01-01 00:00:00|2023-01-01 00:00:00|\n",
      "|13 |Judy-4 |1            |2023-01-01 00:00:00|2023-01-01 00:00:00|\n",
      "+---+-------+-------------+-------------------+-------------------+\n",
      "\n"
     ]
    }
   ],
   "source": [
    "from pyspark.sql import functions as F, types as T\n",
    "\n",
    "schema = T.StructType([\n",
    "    T.StructField(\"id\", T.IntegerType(), False),\n",
    "    T.StructField(\"name\", T.StringType(), False),\n",
    "    T.StructField(\"department_id\", T.IntegerType(), False),\n",
    "    T.StructField(\"created_at\", T.StringType(), False),\n",
    "    T.StructField(\"updated_at\", T.StringType(), False),\n",
    "])\n",
    "\n",
    "data = [\n",
    "    (1, \"Alice\", 1, \"2023-01-01\", \"2023-01-01\"),\n",
    "    (2, \"n-Bob\", 2, \"2023-01-01\", \"2023-01-01\"),\n",
    "    (3, \"Charlie\", 3, \"2023-01-01\", \"2023-01-01\"),\n",
    "    (4, \"David\", 1, \"2023-01-01\", \"2023-01-01\"),\n",
    "    (5, \"u-Eve\", 2, \"2023-01-01\", \"2023-01-01\"),\n",
    "    (6, \"Frank\", 3, \"2023-01-01\", \"2023-01-01\"),\n",
    "    (7, \"Grace\", 1, \"2023-01-01\", \"2023-01-01\"),\n",
    "    (8, \"Heidi\", 2, \"2023-01-01\", \"2023-01-01\"),\n",
    "    (9, \"Ivan\", 3, \"2023-01-01\", \"2023-01-01\"),\n",
    "    (10, \"Judy\", 1, \"2023-01-01\", \"2023-01-01\")\n",
    "    # ,(11, \"Judy-2\", 1, \"2023-01-01\", \"2023-01-01\")\n",
    "    # ,(12, \"Judy-3\", 1, \"2023-01-01\", \"2023-01-01\")\n",
    "    ,(13, \"Judy-4\", 1, \"2023-01-01\", \"2023-01-01\")\n",
    "]\n",
    "\n",
    "df_bronze = spark.createDataFrame(data, schema)\n",
    "df_bronze = df_bronze \\\n",
    "    .withColumn(\"created_at\", F.to_timestamp(\"created_at\")) \\\n",
    "    .withColumn(\"updated_at\",F.to_timestamp(\"updated_at\"))\n",
    "\n",
    "df_bronze.show(truncate=False)\n",
    "bronze_path = get_mock_table_path(etl._src_table)\n",
    "df_bronze.write \\\n",
    "    .format(\"parquet\") \\\n",
    "    .mode(\"overwrite\") \\\n",
    "    .save(bronze_path)"
   ]
  },
  {
   "cell_type": "code",
   "execution_count": 28,
   "id": "f6b5aeaf",
   "metadata": {},
   "outputs": [
    {
     "name": "stdout",
     "output_type": "stream",
     "text": [
      "+------------------------------------+---+---+-------+-------------+-------------------+-------------------+--------------------------+--------------------------+--------------------------+--------------+\n",
      "|PK                                  |NK |id |name   |department_id|created_at         |updated_at         |ROW_LOAD_DTS              |ROW_UPDATE_DTS            |ROW_DELETE_DTS            |ROW_IS_CURRENT|\n",
      "+------------------------------------+---+---+-------+-------------+-------------------+-------------------+--------------------------+--------------------------+--------------------------+--------------+\n",
      "|df2a3742-9b6a-4bf5-aebc-f0533b5a2adf|1  |1  |Alice  |1            |2023-01-01 00:00:00|2023-01-01 00:00:00|2025-08-06 15:03:53.793487|NULL                      |NULL                      |1             |\n",
      "|8e0e7287-26ef-4c55-9451-f76ff9e90b56|2  |2  |Bob    |2            |2023-01-01 00:00:00|2023-01-01 00:00:00|2025-08-06 15:03:53.793487|2025-08-06 15:05:14.199291|NULL                      |0             |\n",
      "|059ea6af-c72e-4596-9e0e-1c7581f2b232|2  |2  |u-Bob  |2            |2023-01-01 00:00:00|2023-01-01 00:00:00|2025-08-06 15:05:14.199291|2025-08-06 15:06:38.09215 |2025-08-06 15:06:38.09215 |0             |\n",
      "|869ac915-623f-4ee6-8b9c-d082307a8fab|2  |2  |n-Bob  |2            |2023-01-01 00:00:00|2023-01-01 00:00:00|2025-08-06 15:07:02.730826|NULL                      |NULL                      |1             |\n",
      "|c70f488a-fbaf-49f9-a66e-45165a5906f9|3  |3  |Charlie|3            |2023-01-01 00:00:00|2023-01-01 00:00:00|2025-08-06 15:03:53.793487|NULL                      |NULL                      |1             |\n",
      "|3312998a-241a-48c9-a5ac-6e2392d7c2e9|4  |4  |David  |1            |2023-01-01 00:00:00|2023-01-01 00:00:00|2025-08-06 15:03:53.793487|NULL                      |NULL                      |1             |\n",
      "|bea6576d-a025-45b6-99d3-a60863a2c28d|5  |5  |Eve    |2            |2023-01-01 00:00:00|2023-01-01 00:00:00|2025-08-06 15:03:53.793487|2025-08-06 15:05:14.199291|NULL                      |0             |\n",
      "|acd7bc5b-45ff-4855-8081-5a716651bb68|5  |5  |u-Eve  |2            |2023-01-01 00:00:00|2023-01-01 00:00:00|2025-08-06 15:05:14.199291|NULL                      |NULL                      |1             |\n",
      "|8d794e1f-572d-4ed2-869f-c17b04e18c06|6  |6  |Frank  |3            |2023-01-01 00:00:00|2023-01-01 00:00:00|2025-08-06 15:03:53.793487|NULL                      |NULL                      |1             |\n",
      "|d0a2dd5a-ee97-41f2-a587-c885f78ae001|7  |7  |Grace  |1            |2023-01-01 00:00:00|2023-01-01 00:00:00|2025-08-06 15:03:53.793487|NULL                      |NULL                      |1             |\n",
      "|335cee2e-8957-4864-b2e1-1c429e41ebc4|8  |8  |Heidi  |2            |2023-01-01 00:00:00|2023-01-01 00:00:00|2025-08-06 15:03:53.793487|NULL                      |NULL                      |1             |\n",
      "|df68ecd2-590f-4718-b6d8-80bb1819ab2c|9  |9  |Ivan   |3            |2023-01-01 00:00:00|2023-01-01 00:00:00|2025-08-06 15:03:53.793487|NULL                      |NULL                      |1             |\n",
      "|bb63026e-c05e-40d6-a1b0-7e556175775a|10 |10 |Judy   |1            |2023-01-01 00:00:00|2023-01-01 00:00:00|2025-08-06 15:03:53.793487|NULL                      |NULL                      |1             |\n",
      "|183684c2-8466-43dc-a54d-489e32ab238f|11 |11 |Judy-2 |1            |2023-01-01 00:00:00|2023-01-01 00:00:00|2025-08-06 15:04:09.84924 |2025-08-06 15:04:22.132996|2025-08-06 15:04:22.132996|0             |\n",
      "|43c4340a-549d-4f65-8e52-5ede0be18984|11 |11 |Judy-2 |1            |2023-01-01 00:00:00|2023-01-01 00:00:00|2025-08-06 15:04:38.27016 |2025-08-06 15:05:46.12447 |2025-08-06 15:05:46.12447 |0             |\n",
      "|c76055a5-05fd-485e-83bd-c5d4f22c5586|12 |12 |Judy-3 |1            |2023-01-01 00:00:00|2023-01-01 00:00:00|2025-08-06 15:04:09.84924 |2025-08-06 15:05:14.199291|2025-08-06 15:05:14.199291|0             |\n",
      "|7633329f-c32e-42c3-addc-acc996715970|13 |13 |Judy-4 |1            |2023-01-01 00:00:00|2023-01-01 00:00:00|2025-08-06 15:05:14.199291|NULL                      |NULL                      |1             |\n",
      "+------------------------------------+---+---+-------+-------------+-------------------+-------------------+--------------------------+--------------------------+--------------------------+--------------+\n",
      "\n"
     ]
    }
   ],
   "source": [
    "etl.ingest()\n",
    "df_silver = etl.read_silver_df()\n",
    "df_silver.orderBy(F.col(\"id\").asc(), F.col(\"ROW_LOAD_DTS\").asc()).show(truncate=False)"
   ]
  }
 ],
 "metadata": {
  "kernelspec": {
   "display_name": "py312",
   "language": "python",
   "name": "python3"
  },
  "language_info": {
   "codemirror_mode": {
    "name": "ipython",
    "version": 3
   },
   "file_extension": ".py",
   "mimetype": "text/x-python",
   "name": "python",
   "nbconvert_exporter": "python",
   "pygments_lexer": "ipython3",
   "version": "3.12.9"
  }
 },
 "nbformat": 4,
 "nbformat_minor": 5
}
