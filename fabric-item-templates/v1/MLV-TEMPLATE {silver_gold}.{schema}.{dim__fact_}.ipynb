{
 "cells": [
  {
   "cell_type": "markdown",
   "id": "cb996add-a263-4be5-8786-8b36cc3f98bc",
   "metadata": {
    "microsoft": {
     "language": "sparksql",
     "language_group": "synapse_pyspark"
    },
    "nteract": {
     "transient": {
      "deleting": false
     }
    }
   },
   "source": [
    "# Create materialized lake views \n"
   ]
  },
  {
   "cell_type": "markdown",
   "id": "270451a6-622a-4f75-88e2-e931afb96911",
   "metadata": {
    "microsoft": {
     "language": "python",
     "language_group": "synapse_pyspark"
    },
    "nteract": {
     "transient": {
      "deleting": false
     }
    }
   },
   "source": [
    "## Parameters"
   ]
  },
  {
   "cell_type": "code",
   "execution_count": null,
   "id": "d0cc3009-56cf-4dd4-8a2d-913f5f98ddee",
   "metadata": {
    "microsoft": {
     "language": "python",
     "language_group": "synapse_pyspark"
    },
    "tags": [
     "parameters"
    ]
   },
   "outputs": [],
   "source": [
    "IS_DEV = True\n",
    "FULL_REFRESH = False\n",
    "FABRICENGINEER_PACKAGE_VERSION = \"1.1.0\""
   ]
  },
  {
   "cell_type": "markdown",
   "id": "8a2190b5-a24e-491c-bde8-06419b88c3aa",
   "metadata": {
    "microsoft": {
     "language": "python",
     "language_group": "synapse_pyspark"
    },
    "nteract": {
     "transient": {
      "deleting": false
     }
    }
   },
   "source": [
    "## Variables"
   ]
  },
  {
   "cell_type": "code",
   "execution_count": null,
   "id": "aef24b88-5b97-4424-9ce7-a550051580b3",
   "metadata": {
    "microsoft": {
     "language": "python",
     "language_group": "synapse_pyspark"
    }
   },
   "outputs": [],
   "source": [
    "LAKEHOUSE = \"{}\"\n",
    "SCHEMA = \"{}\"\n",
    "TABLE = \"{}\""
   ]
  },
  {
   "cell_type": "markdown",
   "id": "c8738b74-7a3a-442c-9f95-e4344972db16",
   "metadata": {
    "microsoft": {
     "language": "python",
     "language_group": "synapse_pyspark"
    },
    "nteract": {
     "transient": {
      "deleting": false
     }
    }
   },
   "source": [
    "## Import MLV Module"
   ]
  },
  {
   "cell_type": "code",
   "execution_count": null,
   "id": "05f09578-0df1-4daf-84e6-966719669fc2",
   "metadata": {
    "microsoft": {
     "language": "python",
     "language_group": "synapse_pyspark"
    }
   },
   "outputs": [],
   "source": [
    "%run IMPORT FABRICENGINEER PACKAGE"
   ]
  },
  {
   "cell_type": "code",
   "execution_count": null,
   "id": "32acc368-5c33-44b5-8869-f098fd203d32",
   "metadata": {
    "microsoft": {
     "language": "python",
     "language_group": "synapse_pyspark"
    }
   },
   "outputs": [],
   "source": [
    "strategy_module_code = get_module_code(\"transform.mlv\", FABRICENGINEER_PACKAGE_VERSION)\n",
    "exec(strategy_module_code, globals())"
   ]
  },
  {
   "cell_type": "markdown",
   "id": "91698b29-a1f3-489f-b2d2-28facb502ac6",
   "metadata": {
    "microsoft": {
     "language": "python",
     "language_group": "synapse_pyspark"
    },
    "nteract": {
     "transient": {
      "deleting": false
     }
    }
   },
   "source": [
    "## Initialize MLV"
   ]
  },
  {
   "cell_type": "code",
   "execution_count": null,
   "id": "71b5acd5-333b-452b-826e-9e5d0031fd74",
   "metadata": {
    "microsoft": {
     "language": "python",
     "language_group": "synapse_pyspark"
    }
   },
   "outputs": [],
   "source": [
    "mlv.init(\n",
    "    lakehouse=LAKEHOUSE,\n",
    "    schema=SCHEMA,\n",
    "    table=TABLE\n",
    "    # ,table_suffix=None bei Gold?\n",
    ")\n",
    "\n",
    "display(mlv.to_dict())"
   ]
  },
  {
   "cell_type": "markdown",
   "id": "e4cb1b11-e9f3-4af1-83b1-a8f2d6a078d0",
   "metadata": {
    "microsoft": {
     "language": "python",
     "language_group": "synapse_pyspark"
    },
    "nteract": {
     "transient": {
      "deleting": false
     }
    }
   },
   "source": [
    "## Define SQL-VIEW"
   ]
  },
  {
   "cell_type": "code",
   "execution_count": null,
   "id": "5e24124d-c36b-4e84-91ed-5135e51ce314",
   "metadata": {
    "collapsed": false,
    "microsoft": {
     "language": "python",
     "language_group": "synapse_pyspark"
    }
   },
   "outputs": [],
   "source": [
    "sql = to_spark_sql(\"\"\"\n",
    "{SQL-VIEW CODE}\n",
    "\"\"\")\n",
    "\n",
    "if IS_DEV:\n",
    "    display(spark.sql(sql))"
   ]
  },
  {
   "cell_type": "code",
   "execution_count": null,
   "id": "cb684a52-454e-4ce6-a021-0f11d48ac4c0",
   "metadata": {
    "microsoft": {
     "language": "python",
     "language_group": "synapse_pyspark"
    }
   },
   "outputs": [],
   "source": [
    "result = mlv.create_or_replace(sql)\n",
    "\n",
    "display(result)"
   ]
  },
  {
   "cell_type": "code",
   "execution_count": null,
   "id": "cab2cb6d-6883-4857-8da0-6ee22a680c02",
   "metadata": {
    "collapsed": false,
    "microsoft": {
     "language": "python",
     "language_group": "synapse_pyspark"
    }
   },
   "outputs": [],
   "source": [
    "result = mlv.refresh(full_refresh=FULL_REFRESH)\n",
    "\n",
    "display(result)"
   ]
  }
 ],
 "metadata": {
  "dependencies": {
   "lakehouse": {
    "default_lakehouse": "01a48654-2921-47c7-ae58-7f920a9b141d",
    "default_lakehouse_name": "UtilsLakehouseDefault",
    "default_lakehouse_workspace_id": "dfed4a6a-e2e6-4ccb-a59e-af6ed391cb62",
    "known_lakehouses": [
     {
      "id": "9a151f51-fee7-4937-b187-1020e8ece007"
     },
     {
      "id": "5fe677cb-0fec-4a79-a5af-7a4d91dc0c7c"
     },
     {
      "id": "8dbbff7b-1e84-4ca6-9228-4c1fea0cfa14"
     },
     {
      "id": "5db21e7d-e913-4826-889e-80d79bfa632e"
     },
     {
      "id": "01a48654-2921-47c7-ae58-7f920a9b141d"
     }
    ]
   }
  },
  "kernel_info": {
   "name": "synapse_pyspark"
  },
  "kernelspec": {
   "display_name": "Synapse PySpark",
   "language": "Python",
   "name": "synapse_pyspark"
  },
  "language_info": {
   "name": "python"
  },
  "microsoft": {
   "language": "python",
   "language_group": "synapse_pyspark",
   "ms_spell_check": {
    "ms_spell_check_language": "en"
   }
  },
  "nteract": {
   "version": "nteract-front-end@1.0.0"
  },
  "spark_compute": {
   "compute_id": "/trident/default",
   "session_options": {
    "conf": {
     "spark.synapse.nbs.session.timeout": "1200000"
    }
   }
  },
  "synapse_widget": {
   "state": {},
   "version": "0.1"
  }
 },
 "nbformat": 4,
 "nbformat_minor": 5
}
